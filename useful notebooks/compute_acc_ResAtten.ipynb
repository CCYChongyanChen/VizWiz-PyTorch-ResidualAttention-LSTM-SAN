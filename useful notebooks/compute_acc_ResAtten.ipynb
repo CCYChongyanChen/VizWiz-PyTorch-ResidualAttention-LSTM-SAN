{
 "cells": [
  {
   "cell_type": "code",
   "execution_count": 8,
   "metadata": {},
   "outputs": [
    {
     "name": "stdout",
     "output_type": "stream",
     "text": [
      "The autoreload extension is already loaded. To reload it, use:\n",
      "  %reload_ext autoreload\n"
     ]
    }
   ],
   "source": [
    "%load_ext autoreload\n",
    "%autoreload 2\n",
    "\n",
    "import json\n",
    "\n",
    "split = 'val'\n",
    "results = json.load(open('predictions.json'))\n",
    "dataset = json.load(open('/data/vqa/annotations/VizWiz/VizWiz_QA/Annotations/%s.json'%split))\n",
    "\n",
    "img2gt = {x['image']:x['answers'] for x in dataset}"
   ]
  },
  {
   "cell_type": "code",
   "execution_count": 9,
   "metadata": {},
   "outputs": [],
   "source": [
    "#print(dataset[:10])\n",
    "#results[:30]\n",
    "#dataset[18]"
   ]
  },
  {
   "cell_type": "code",
   "execution_count": 10,
   "metadata": {},
   "outputs": [
    {
     "name": "stdout",
     "output_type": "stream",
     "text": [
      "{'image': 'VizWiz_val_00000000.jpg', 'answer': 'no'}\n",
      "{'image': 'VizWiz_val_00000000.jpg', 'question': 'Ok. There is another picture I hope it is a better one.', 'answers': [{'answer': 'unanswerable', 'answer_confidence': 'yes'}, {'answer': 'unanswerable', 'answer_confidence': 'yes'}, {'answer': 'unanswerable', 'answer_confidence': 'yes'}, {'answer': 'unanswerable', 'answer_confidence': 'yes'}, {'answer': 'unanswerable', 'answer_confidence': 'maybe'}, {'answer': 'unanswerable', 'answer_confidence': 'yes'}, {'answer': 'unanswerable', 'answer_confidence': 'yes'}, {'answer': 'unanswerable', 'answer_confidence': 'no'}, {'answer': 'cannot repair this computer automatically', 'answer_confidence': 'maybe'}, {'answer': 'blank screen', 'answer_confidence': 'yes'}], 'answer_type': 'unanswerable', 'answerable': 0}\n"
     ]
    }
   ],
   "source": [
    "print(results[0])\n",
    "print(dataset[0])"
   ]
  },
  {
   "cell_type": "code",
   "execution_count": 11,
   "metadata": {},
   "outputs": [
    {
     "name": "stdout",
     "output_type": "stream",
     "text": [
      "VizWiz_val_00000000.jpg\n"
     ]
    }
   ],
   "source": [
    "print(results[0]['image'])"
   ]
  },
  {
   "cell_type": "code",
   "execution_count": 12,
   "metadata": {},
   "outputs": [
    {
     "name": "stdout",
     "output_type": "stream",
     "text": [
      "VizWiz_val_00000000.jpg\n",
      "VizWiz_val_000000028000.jpg\n"
     ]
    }
   ],
   "source": [
    "imdir='VizWiz_%s_%012d.jpg'\n",
    "print(dataset[0]['image'])\n",
    "img = imdir%(split,28000)\n",
    "print(img)"
   ]
  },
  {
   "cell_type": "code",
   "execution_count": 13,
   "metadata": {},
   "outputs": [
    {
     "name": "stdout",
     "output_type": "stream",
     "text": [
      "yes/no : 0.05232692752952072\n",
      "unanswerable : 0.3202130122713591\n",
      "other : 0.6158833063209076\n",
      "number : 0.01157675387821255\n"
     ]
    }
   ],
   "source": [
    "from collections import Counter\n",
    "img2ans_type = {}\n",
    "for one_data in dataset:\n",
    "    ans_counter = Counter([x['answer'] for x in one_data['answers']])\n",
    "    ans = ans_counter.most_common(1)[0][0]\n",
    "    if ans == 'yes' or ans == 'no':\n",
    "        ans_type = 'yes/no'\n",
    "    elif ans == 'unanswerable' or ans == 'unsuitable':\n",
    "        ans_type = 'unanswerable'\n",
    "    elif ans.isdigit():\n",
    "        ans_type = 'number'\n",
    "    else:\n",
    "        ans_type = 'other'\n",
    "    img2ans_type[one_data['image']] = ans_type\n",
    "    \n",
    "all_ans = list(img2ans_type.values())\n",
    "for ans_type in set(all_ans):\n",
    "    print (ans_type, ':', all_ans.count(ans_type)*1.0/len(all_ans))"
   ]
  },
  {
   "cell_type": "code",
   "execution_count": 15,
   "metadata": {},
   "outputs": [
    {
     "name": "stdout",
     "output_type": "stream",
     "text": [
      "Accuracy : 0.42478968897121244\n",
      "yes/no : 0.5634218289085545\n",
      "unanswerable : 0.8013979272113764\n",
      "other : 0.2206766917293233\n",
      "number : 0.24\n"
     ]
    }
   ],
   "source": [
    "import numpy as np\n",
    "img2acc = {}\n",
    "imdir='VizWiz_%s_%012d.jpg'\n",
    "\n",
    "for pred in results:\n",
    "    #img = imdir%(split,pred['question_id']) #Reconstruct image name from question_id\n",
    "    img = pred['image']\n",
    "    pred_ans = pred['answer']\n",
    "    gt_ans = img2gt[img]\n",
    "    gt_ans = [x['answer'] for x in gt_ans]\n",
    "    gt_ans = [x.lower() for x in gt_ans]\n",
    "    cur_acc = np.minimum(1.0, gt_ans.count(pred_ans)/3.0)\n",
    "    img2acc[img] = cur_acc\n",
    "\n",
    "print ('Accuracy :', np.mean(list(img2acc.values())))\n",
    "for ans_type in set(all_ans):\n",
    "    acc_per_type = np.mean([acc for img, acc in img2acc.items() if img2ans_type[img] == ans_type])\n",
    "    print (ans_type, ':', acc_per_type)"
   ]
  },
  {
   "cell_type": "code",
   "execution_count": 3,
   "metadata": {},
   "outputs": [
    {
     "name": "stdout",
     "output_type": "stream",
     "text": [
      "Collecting pycocoevalcap\n",
      "  Downloading pycocoevalcap-1.2-py3-none-any.whl (104.3 MB)\n",
      "\u001b[K     |████████████████████████████████| 104.3 MB 102.7 MB/s eta 0:00:01\n",
      "\u001b[?25hCollecting pycocotools>=2.0.2\n",
      "  Using cached pycocotools-2.0.2.tar.gz (23 kB)\n",
      "Requirement already satisfied: setuptools>=18.0 in /home/cc67459/anaconda3/envs/cifar100/lib/python3.6/site-packages (from pycocotools>=2.0.2->pycocoevalcap) (51.0.0.post20201207)\n",
      "Requirement already satisfied: matplotlib>=2.1.0 in /home/cc67459/anaconda3/envs/cifar100/lib/python3.6/site-packages (from pycocotools>=2.0.2->pycocoevalcap) (3.3.3)\n",
      "Collecting cython>=0.27.3\n",
      "  Using cached Cython-0.29.21-cp36-cp36m-manylinux1_x86_64.whl (2.0 MB)\n",
      "Requirement already satisfied: python-dateutil>=2.1 in /home/cc67459/anaconda3/envs/cifar100/lib/python3.6/site-packages (from matplotlib>=2.1.0->pycocotools>=2.0.2->pycocoevalcap) (2.8.1)\n",
      "Requirement already satisfied: pyparsing!=2.0.4,!=2.1.2,!=2.1.6,>=2.0.3 in /home/cc67459/anaconda3/envs/cifar100/lib/python3.6/site-packages (from matplotlib>=2.1.0->pycocotools>=2.0.2->pycocoevalcap) (2.4.7)\n",
      "Requirement already satisfied: pillow>=6.2.0 in /home/cc67459/anaconda3/envs/cifar100/lib/python3.6/site-packages (from matplotlib>=2.1.0->pycocotools>=2.0.2->pycocoevalcap) (8.0.1)\n",
      "Requirement already satisfied: kiwisolver>=1.0.1 in /home/cc67459/anaconda3/envs/cifar100/lib/python3.6/site-packages (from matplotlib>=2.1.0->pycocotools>=2.0.2->pycocoevalcap) (1.3.1)\n",
      "Requirement already satisfied: numpy>=1.15 in /home/cc67459/anaconda3/envs/cifar100/lib/python3.6/site-packages (from matplotlib>=2.1.0->pycocotools>=2.0.2->pycocoevalcap) (1.19.4)\n",
      "Requirement already satisfied: cycler>=0.10 in /home/cc67459/anaconda3/envs/cifar100/lib/python3.6/site-packages (from matplotlib>=2.1.0->pycocotools>=2.0.2->pycocoevalcap) (0.10.0)\n",
      "Requirement already satisfied: six in /home/cc67459/anaconda3/envs/cifar100/lib/python3.6/site-packages (from cycler>=0.10->matplotlib>=2.1.0->pycocotools>=2.0.2->pycocoevalcap) (1.15.0)\n",
      "Requirement already satisfied: six in /home/cc67459/anaconda3/envs/cifar100/lib/python3.6/site-packages (from cycler>=0.10->matplotlib>=2.1.0->pycocotools>=2.0.2->pycocoevalcap) (1.15.0)\n",
      "Building wheels for collected packages: pycocotools\n",
      "  Building wheel for pycocotools (setup.py) ... \u001b[?25ldone\n",
      "\u001b[?25h  Created wheel for pycocotools: filename=pycocotools-2.0.2-cp36-cp36m-linux_x86_64.whl size=281749 sha256=52ea542d3519fb63b1a3c088445fb09d9080c5bf3b98156c8358dd55d938c9ff\n",
      "  Stored in directory: /home/cc67459/.cache/pip/wheels/d8/c2/ba/8f5306f921c2e79ad7b09effdfed6bd966cfcf8c6fe55422d6\n",
      "Successfully built pycocotools\n",
      "Installing collected packages: cython, pycocotools, pycocoevalcap\n",
      "Successfully installed cython-0.29.21 pycocoevalcap-1.2 pycocotools-2.0.2\n"
     ]
    }
   ],
   "source": [
    "\"\"\"Denis prepro validation balanced\"\"\"\n",
    "!pip install pycocoevalcap"
   ]
  },
  {
   "cell_type": "code",
   "execution_count": 17,
   "metadata": {},
   "outputs": [],
   "source": [
    "# Download coco-caption from https://github.com/tylin/coco-caption\n",
    "import sys\n",
    "sys.path.insert(0, '../coco-caption')\n",
    "\n",
    "from pycocoevalcap.tokenizer.ptbtokenizer import PTBTokenizer\n",
    "from pycocoevalcap.bleu.bleu import Bleu\n",
    "from pycocoevalcap.meteor.meteor import Meteor\n",
    "from pycocoevalcap.rouge.rouge import Rouge\n",
    "from pycocoevalcap.cider.cider import Cider\n",
    "\n",
    "class COCOEvalCap:\n",
    "    def __init__(self,images,gts,res):\n",
    "        self.evalImgs = []\n",
    "        self.eval = {}\n",
    "        self.imgToEval = {}\n",
    "        self.params = {'image_id': images}\n",
    "        self.gts = gts\n",
    "        self.res = res\n",
    "\n",
    "    def evaluate(self):\n",
    "        imgIds = self.params['image_id']\n",
    "        gts = self.gts\n",
    "        res = self.res\n",
    "\n",
    "        # =================================================\n",
    "        # Set up scorers\n",
    "        # =================================================\n",
    "        print ('tokenization...')\n",
    "        tokenizer = PTBTokenizer()\n",
    "        gts  = tokenizer.tokenize(gts)\n",
    "        res = tokenizer.tokenize(res)\n",
    "\n",
    "        # =================================================\n",
    "        # Set up scorers\n",
    "        # =================================================\n",
    "        print ('setting up scorers...')\n",
    "        scorers = [\n",
    "            (Bleu(4), [\"Bleu_1\", \"Bleu_2\", \"Bleu_3\", \"Bleu_4\"]),\n",
    "            (Meteor(),\"METEOR\"),\n",
    "            (Rouge(), \"ROUGE_L\"),\n",
    "            (Cider(), \"CIDEr\")\n",
    "        ]\n",
    "\n",
    "        # =================================================\n",
    "        # Compute scores\n",
    "        # =================================================\n",
    "        eval = {}\n",
    "        for scorer, method in scorers:\n",
    "            print ('computing %s score...'%(scorer.method()))\n",
    "            assert(set(gts.keys()) == set(res.keys()))\n",
    "            score, scores = scorer.compute_score(gts, res)\n",
    "            if type(method) == list:\n",
    "                for sc, scs, m in zip(score, scores, method):\n",
    "                    self.setEval(sc, m)\n",
    "                    self.setImgToEvalImgs(scs, imgIds, m)\n",
    "                    print(\"%s: %0.3f\"%(m, sc))\n",
    "            else:\n",
    "                self.setEval(score, method)\n",
    "                self.setImgToEvalImgs(scores, imgIds, method)\n",
    "                print (\"%s: %0.3f\"%(method, score))\n",
    "        self.setEvalImgs()\n",
    "\n",
    "    def setEval(self, score, method):\n",
    "        self.eval[method] = score\n",
    "\n",
    "    def setImgToEvalImgs(self, scores, imgIds, method):\n",
    "        for imgId, score in zip(imgIds, scores):\n",
    "            if not imgId in self.imgToEval:\n",
    "                self.imgToEval[imgId] = {}\n",
    "                self.imgToEval[imgId][\"image_id\"] = imgId\n",
    "            self.imgToEval[imgId][method] = score\n",
    "\n",
    "    def setEvalImgs(self):\n",
    "        self.evalImgs = [eval for imgId, eval in self.imgToEval.items()]"
   ]
  },
  {
   "cell_type": "code",
   "execution_count": 34,
   "metadata": {},
   "outputs": [
    {
     "name": "stdout",
     "output_type": "stream",
     "text": [
      "VizWiz_val_00000000.jpg\n",
      "tokenization...\n",
      "setting up scorers...\n",
      "computing Bleu score...\n",
      "{'testlen': 4387, 'reflen': 4649, 'guess': [4387, 68, 18, 7], 'correct': [2537, 22, 3, 1]}\n",
      "ratio: 0.9436437943641763\n",
      "Bleu_1: 0.545\n",
      "Bleu_2: 0.407\n",
      "Bleu_3: 0.297\n",
      "Bleu_4: 0.243\n",
      "computing METEOR score...\n",
      "METEOR: 0.275\n",
      "computing Rouge score...\n",
      "ROUGE_L: 0.570\n",
      "computing CIDEr score...\n",
      "CIDEr: 0.531\n",
      "{'Bleu_1': 0.54477345632856, 'Bleu_2': 0.4074707197201333, 'Bleu_3': 0.2965069581517403, 'Bleu_4': 0.24337021935611858, 'METEOR': 0.27484944364080693, 'ROUGE_L': 0.5696490274404493, 'CIDEr': 0.530886892790464}\n"
     ]
    }
   ],
   "source": [
    "#res = {imdir%(split,x['question_id'])):[{'image_id':imdir%(split,x['question_id']), 'caption':x['answer']}] for x in results}\n",
    "print(results[0]['image'])\n",
    "res={}\n",
    "res = {x['image']:[{'image_id':x['image'], 'caption':x['answer']}] for x in results}\n",
    "\n",
    "gts = {}\n",
    "for img, ans_list in img2gt.items():\n",
    "    ans_list = [x['answer'] for x in ans_list]\n",
    "    tmp = []\n",
    "    for x in ans_list:\n",
    "        try:\n",
    "            tmp.append(str(x))\n",
    "        except:\n",
    "            pass\n",
    "    ans_list = tmp\n",
    "    ans_list = [{'image_id': img, 'caption': str(x)} for x in ans_list]\n",
    "    gts[img] = ans_list\n",
    "for img in gts.keys():\n",
    "    if img not in res.keys():\n",
    "        res[img] = [{'image_id':img, 'caption':''}]\n",
    "\n",
    "#### CHANGED CODE OF BLEU/METEOR SINCE RAISES ERROR WHEN COMPARING gts.keys() == res.keys()\n",
    "       \n",
    "evalObj = COCOEvalCap(gts.keys(),gts,res)\n",
    "evalObj.evaluate()\n",
    "print (evalObj.eval)"
   ]
  },
  {
   "cell_type": "code",
   "execution_count": null,
   "metadata": {},
   "outputs": [],
   "source": []
  },
  {
   "cell_type": "code",
   "execution_count": null,
   "metadata": {},
   "outputs": [],
   "source": []
  },
  {
   "cell_type": "code",
   "execution_count": null,
   "metadata": {},
   "outputs": [],
   "source": []
  }
 ],
 "metadata": {
  "kernelspec": {
   "display_name": "vizwiz",
   "language": "python",
   "name": "cifar100"
  },
  "language_info": {
   "codemirror_mode": {
    "name": "ipython",
    "version": 3
   },
   "file_extension": ".py",
   "mimetype": "text/x-python",
   "name": "python",
   "nbconvert_exporter": "python",
   "pygments_lexer": "ipython3",
   "version": "3.6.12"
  }
 },
 "nbformat": 4,
 "nbformat_minor": 2
}
